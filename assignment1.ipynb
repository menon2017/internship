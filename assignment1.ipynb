{
 "cells": [
  {
   "cell_type": "code",
   "execution_count": 1,
   "id": "01ba0a22",
   "metadata": {},
   "outputs": [
    {
     "name": "stdout",
     "output_type": "stream",
     "text": [
      "Python:Exercises::PHP:exercises:\n"
     ]
    }
   ],
   "source": [
    "import re\n",
    "\n",
    "text = \"Python Exercises, PHP exercises.\"\n",
    "pattern = r\"[ ,\\.]\"\n",
    "new_text = re.sub(pattern, \":\", text)\n",
    "print(new_text)"
   ]
  },
  {
   "cell_type": "code",
   "execution_count": 2,
   "id": "c52c6bbb",
   "metadata": {},
   "outputs": [
    {
     "name": "stdout",
     "output_type": "stream",
     "text": [
      "            SUMMARY\n",
      "0       hello world\n",
      "1        XXXXX test\n",
      "2  123four five six\n"
     ]
    }
   ],
   "source": [
    "import pandas as pd\n",
    "\n",
    "my_dict = {'SUMMARY': ['hello, world!', 'XXXXX test', '123four, five:; six...']}\n",
    "\n",
    "def remove_chars(text):\n",
    "    return ''.join(char for char in text if char.isalnum() or char.isspace())\n",
    "\n",
    "df = pd.DataFrame(my_dict)\n",
    "df['SUMMARY'] = df['SUMMARY'].apply(remove_chars)\n",
    "print(df)"
   ]
  },
  {
   "cell_type": "code",
   "execution_count": 3,
   "id": "44731e7f",
   "metadata": {},
   "outputs": [
    {
     "name": "stdout",
     "output_type": "stream",
     "text": [
      "['This', 'string', 'with', 'words', 'varying', 'lengths']\n"
     ]
    }
   ],
   "source": [
    "import re\n",
    "\n",
    "def find_long_words(text):\n",
    "    pattern = re.compile(r\"\\b\\w{4,}\\b\")\n",
    "    matches = pattern.findall(text)\n",
    "    return matches\n",
    "print(find_long_words(\"This is a string with words of varying lengths\"))"
   ]
  },
  {
   "cell_type": "code",
   "execution_count": 4,
   "id": "0a4bdf21",
   "metadata": {},
   "outputs": [
    {
     "name": "stdout",
     "output_type": "stream",
     "text": [
      "['This', 'says', 'hello']\n"
     ]
    }
   ],
   "source": [
    "import re\n",
    "\n",
    "def find_three_to_five_char_words(text):\n",
    "    pattern = re.compile(r\"\\b\\w{3,5}\\b\")\n",
    "    matches = pattern.findall(text)\n",
    "\n",
    "    return matches\n",
    "text = \"This string says hello\"\n",
    "three_to_five_char_words = find_three_to_five_char_words(text)\n",
    "\n",
    "print(three_to_five_char_words)"
   ]
  },
  {
   "cell_type": "code",
   "execution_count": 5,
   "id": "3a9530d5",
   "metadata": {},
   "outputs": [
    {
     "name": "stdout",
     "output_type": "stream",
     "text": [
      "['example .com', 'hr@fliprobo .com', 'github .com', 'Hello Data Science World', 'Data Scientist']\n"
     ]
    }
   ],
   "source": [
    "import re\n",
    "\n",
    "def remove_only_parentheses(text_list):\n",
    "    pattern = re.compile(r\"\\(|\\)\")\n",
    "    return [pattern.sub(\"\", text) for text in text_list]\n",
    "text_list = [\"example (.com)\", \"hr@fliprobo (.com)\", \"github (.com)\", \"Hello (Data Science World)\", \"Data (Scientist)\"]\n",
    "cleaned_list = remove_only_parentheses(text_list)\n",
    "\n",
    "print(cleaned_list)"
   ]
  },
  {
   "cell_type": "code",
   "execution_count": 6,
   "id": "ddb706d2",
   "metadata": {},
   "outputs": [
    {
     "name": "stdout",
     "output_type": "stream",
     "text": [
      "Modified lines:\n",
      "['example hr@fliprobo github Hello Data ']\n"
     ]
    }
   ],
   "source": [
    "import re\n",
    "def remove_parentheses(filename): \n",
    "    pattern = r\"\\(.*?\\)\"\n",
    "    with open(filename, \"r\") as file:\n",
    "        lines = file.readlines()\n",
    "    modified_lines = [re.sub(pattern, \"\", line.strip()) for line in lines]\n",
    "    return modified_lines\n",
    "text = [\"example (.com)\", \"hr@fliprobo (.com)\", \"github (.com)\", \"Hello (Data Science World)\", \"Data (Scientist)\"]\n",
    "filename = \"sample_text.txt\"\n",
    "with open(filename, \"w\") as file:\n",
    "    file.writelines(text)\n",
    "modified_lines = remove_parentheses(filename)\n",
    "print(\"Modified lines:\")\n",
    "for line in modified_lines:\n",
    "    print([line])"
   ]
  },
  {
   "cell_type": "code",
   "execution_count": 7,
   "id": "afa52602",
   "metadata": {},
   "outputs": [
    {
     "name": "stdout",
     "output_type": "stream",
     "text": [
      "['Importance', 'Of', 'Regular', 'Expressions', 'In', 'Python']\n"
     ]
    }
   ],
   "source": [
    "import re\n",
    "\n",
    "string = \"ImportanceOfRegularExpressionsInPython\"\n",
    "pattern = r\"(?<!^)(?=[A-Z])\"\n",
    "split_string = re.split(pattern, string)\n",
    "\n",
    "print(split_string)"
   ]
  },
  {
   "cell_type": "code",
   "execution_count": 8,
   "id": "531b432b",
   "metadata": {},
   "outputs": [
    {
     "name": "stdout",
     "output_type": "stream",
     "text": [
      "RegularExpression 1IsAn 2ImportantTopic 3InPython\n"
     ]
    }
   ],
   "source": [
    "def insert_spaces(text):\n",
    " \n",
    "  return re.sub(r\"\\B(\\d+)\", r\" \\1\", text)\n",
    "\n",
    "\n",
    "text = \"RegularExpression1IsAn2ImportantTopic3InPython\"\n",
    "modified_text = insert_spaces(text)\n",
    "\n",
    "print(modified_text)"
   ]
  },
  {
   "cell_type": "code",
   "execution_count": 9,
   "id": "ff4be108",
   "metadata": {},
   "outputs": [
    {
     "name": "stdout",
     "output_type": "stream",
     "text": [
      " Regular Expression 1 Is An 2 Important Topic 3 In Python\n"
     ]
    }
   ],
   "source": [
    "def insert_spaces(text):\n",
    "    pattern = r\"(?<!\\s)([A-Z]|\\d+)(?!\\s)\"\n",
    "    return re.sub(pattern, r\" \\1\", text)\n",
    "text = \"RegularExpression1IsAn2ImportantTopic3InPython\"\n",
    "modified_text = insert_spaces(text)\n",
    "print(modified_text)"
   ]
  },
  {
   "cell_type": "code",
   "execution_count": 10,
   "id": "c033603b",
   "metadata": {},
   "outputs": [
    {
     "name": "stdout",
     "output_type": "stream",
     "text": [
      "       Country  Happiness Rank  Happiness Score First Five Letters\n",
      "0      Finland               1            7.592             Finlan\n",
      "1      Denmark               2            7.591             Denmar\n",
      "2  Switzerland               3            7.586             Switze\n",
      "3      Iceland               4            7.561             Icelan\n",
      "4  Netherlands               5            7.528             Nether\n",
      "5       Norway               6            7.517             Norway\n",
      "6       Sweden               7            7.500             Sweden\n",
      "7  New Zealand               8            7.488             New Ze\n",
      "8      Austria               9            7.481             Austri\n",
      "9   Luxembourg              10            7.479             Luxemb\n"
     ]
    }
   ],
   "source": [
    "import pandas as pd\n",
    "data = [\n",
    "    {\"Country\": \"Finland\", \"Happiness Rank\": 1, \"Happiness Score\": 7.592},\n",
    "    {\"Country\": \"Denmark\", \"Happiness Rank\": 2, \"Happiness Score\": 7.591},\n",
    "    {\"Country\": \"Switzerland\", \"Happiness Rank\": 3, \"Happiness Score\": 7.586},\n",
    "    {\"Country\": \"Iceland\", \"Happiness Rank\": 4, \"Happiness Score\": 7.561},\n",
    "    {\"Country\": \"Netherlands\", \"Happiness Rank\": 5, \"Happiness Score\": 7.528},\n",
    "    {\"Country\": \"Norway\", \"Happiness Rank\": 6, \"Happiness Score\": 7.517},\n",
    "    {\"Country\": \"Sweden\", \"Happiness Rank\": 7, \"Happiness Score\": 7.500},\n",
    "    {\"Country\": \"New Zealand\", \"Happiness Rank\": 8, \"Happiness Score\": 7.488},\n",
    "    {\"Country\": \"Austria\", \"Happiness Rank\": 9, \"Happiness Score\": 7.481},\n",
    "    {\"Country\": \"Luxembourg\", \"Happiness Rank\": 10, \"Happiness Score\": 7.479},\n",
    "]\n",
    "df = pd.DataFrame(data)\n",
    "df[\"First Five Letters\"] = df[\"Country\"].str[:6]\n",
    "print(df)"
   ]
  },
  {
   "cell_type": "code",
   "execution_count": 11,
   "id": "3d4af883",
   "metadata": {},
   "outputs": [
    {
     "name": "stdout",
     "output_type": "stream",
     "text": [
      "String matches the pattern\n",
      "String does not match the pattern\n"
     ]
    }
   ],
   "source": [
    "import re\n",
    "\n",
    "def match_string(string):\n",
    "    pattern = r'^[a-zA-Z0-9_]+$'\n",
    "    if re.match(pattern, string):\n",
    "        print(\"String matches the pattern\")\n",
    "    else:\n",
    "        print(\"String does not match the pattern\")\n",
    "\n",
    "\n",
    "match_string(\"valid_string\")  \n",
    "match_string(\"not valid\")"
   ]
  },
  {
   "cell_type": "code",
   "execution_count": 14,
   "id": "fc8e1cd3",
   "metadata": {},
   "outputs": [
    {
     "name": "stdout",
     "output_type": "stream",
     "text": [
      "String 1 starts with 123: True\n",
      "String 2 starts with 123: False\n"
     ]
    }
   ],
   "source": [
    "def starts_with_number(text, number):\n",
    "    if not text or not isinstance(number, str):\n",
    "        return False\n",
    "    return text.startswith(number)\n",
    "specific_number = \"123\"\n",
    "string1 = specific_number + \" This is a string\"\n",
    "string2 = \"This is another string\"\n",
    "\n",
    "print(f\"String 1 starts with {specific_number}: {starts_with_number(string1, specific_number)}\")\n",
    "print(f\"String 2 starts with {specific_number}: {starts_with_number(string2, specific_number)}\")"
   ]
  },
  {
   "cell_type": "code",
   "execution_count": 15,
   "id": "e95241c1",
   "metadata": {},
   "outputs": [
    {
     "name": "stdout",
     "output_type": "stream",
     "text": [
      "216.5.15.196\n"
     ]
    }
   ],
   "source": [
    "import re\n",
    "ip = \"216.05.015.196\"\n",
    "string = re.sub('\\.[0]*', '.', ip)\n",
    "print(string)"
   ]
  },
  {
   "cell_type": "code",
   "execution_count": 16,
   "id": "ee704a94",
   "metadata": {},
   "outputs": [
    {
     "name": "stdout",
     "output_type": "stream",
     "text": [
      "Extracted date: August 15th 1947\n"
     ]
    }
   ],
   "source": [
    "import re\n",
    "\n",
    "def extract_date(filename):\n",
    "    pattern = r\"(?i)\\b(January|February|March|April|May|June|July|August|September|October|November|December)\\s+([0-9]+)(?:st|nd|rd|th)\\s+([0-9]{4})\\b\"\n",
    "    with open(filename, \"r\") as file:\n",
    "        text = file.read()\n",
    "        match = re.search(pattern, text)\n",
    "    if match:\n",
    "        return match.group(0)\n",
    "    else:\n",
    "        return None\n",
    "text = \"On August 15th 1947 that India was declared independent from British colonialism, and the reins of control were handed over to the leaders of the Country.\"\n",
    "filename = \"sample_text.txt\"\n",
    "with open(filename, \"w\") as file:\n",
    "    file.write(text)\n",
    "extracted_date = extract_date(filename)\n",
    "if extracted_date:\n",
    "    print(\"Extracted date:\", extracted_date)\n",
    "else:\n",
    "    print(\"No date found in the expected format.\")"
   ]
  },
  {
   "cell_type": "code",
   "execution_count": 17,
   "id": "d21396ec",
   "metadata": {},
   "outputs": [
    {
     "name": "stdout",
     "output_type": "stream",
     "text": [
      "Searched for fox\n",
      "Matched!\n",
      "Searched for dog\n",
      "Matched!\n",
      "Searched for horse\n",
      "Not Matched!\n"
     ]
    }
   ],
   "source": [
    "import re\n",
    "patterns = [ 'fox', 'dog', 'horse' ]\n",
    "text = 'The quick brown fox jumps over the lazy dog.'\n",
    "for pattern in patterns:\n",
    "    print('Searched for %s' % (pattern),) \n",
    "    if re.search(pattern,  text):\n",
    "        print('Matched!')\n",
    "    else:\n",
    "        print('Not Matched!')"
   ]
  },
  {
   "cell_type": "code",
   "execution_count": 20,
   "id": "3b0cfda0",
   "metadata": {},
   "outputs": [
    {
     "name": "stdout",
     "output_type": "stream",
     "text": [
      "Found word: fox\n",
      "  - Starting at index: 16\n",
      "  - Starting at index: 49\n"
     ]
    }
   ],
   "source": [
    "def search_literals_with_locations(text, words):\n",
    "    found_locations = {}\n",
    "    for word in words:\n",
    "        start_index = 0\n",
    "    while True:\n",
    "        start_index = text.lower().find(word.lower(), start_index)\n",
    "        if start_index == -1:\n",
    "            break  \n",
    "        found_locations.setdefault(word, []).append(start_index)\n",
    "        start_index += len(word) \n",
    "    return found_locations\n",
    "text = \"The quick brown fox jumps over the lazy dog. The fox is quick and brown.\"\n",
    "word = \"fox\"\n",
    "found_locations = search_literals_with_locations(text, [word])\n",
    "if found_locations:\n",
    "    print(\"Found word:\", word)\n",
    "    for index in found_locations[word]:\n",
    "        print(\"  - Starting at index:\", index)\n",
    "else:\n",
    "    print(\"Word not found in the text.\")"
   ]
  },
  {
   "cell_type": "code",
   "execution_count": 21,
   "id": "d0335153",
   "metadata": {},
   "outputs": [
    {
     "name": "stdout",
     "output_type": "stream",
     "text": [
      "it's a match 3\n"
     ]
    }
   ],
   "source": [
    "import re\n",
    "my_string = 'Python exercises, PHP exercises, C# exercises'\n",
    "my_substring = 'exercises'\n",
    "s = re.findall(my_substring, my_string)\n",
    "if s:\n",
    "    print('it\\'s a match', len(s))\n",
    "else:\n",
    "    print('no match found')"
   ]
  },
  {
   "cell_type": "code",
   "execution_count": 22,
   "id": "d60ad8de",
   "metadata": {},
   "outputs": [
    {
     "name": "stdout",
     "output_type": "stream",
     "text": [
      "string 'exercises' found at position (7, 16)\n",
      "string 'exercises' found at position (22, 31)\n",
      "string 'exercises' found at position (36, 45)\n"
     ]
    }
   ],
   "source": [
    "import re\n",
    "my_string = 'Python exercises, PHP exercises, C# exercises'\n",
    "my_substring = 'exercises'\n",
    "sub= re.finditer(my_substring, my_string)\n",
    "for match in sub:\n",
    "    print('string \\'{}\\''.format(my_substring), 'found at position', match.span())"
   ]
  },
  {
   "cell_type": "code",
   "execution_count": 23,
   "id": "cb461d8a",
   "metadata": {},
   "outputs": [
    {
     "name": "stdout",
     "output_type": "stream",
     "text": [
      "31-03-2018\n"
     ]
    }
   ],
   "source": [
    "import re\n",
    "date = '2018-03-31'\n",
    "sem = re.split('-', date)\n",
    "new_date = '-'.join(sem[::-1])\n",
    "print(new_date)"
   ]
  },
  {
   "cell_type": "code",
   "execution_count": 24,
   "id": "785c56c2",
   "metadata": {},
   "outputs": [
    {
     "name": "stdout",
     "output_type": "stream",
     "text": [
      "['01.12', '0132.12', '2.31', '145.8', '3.01', '27.25', '0.25']\n"
     ]
    }
   ],
   "source": [
    "import re\n",
    "\n",
    "def find_decimal_numbers(string):\n",
    "    pattern = re.compile(r'\\d+\\.\\d{1,2}')\n",
    "    decimal_numbers = re.findall(pattern, string)\n",
    "    return decimal_numbers\n",
    "sample_text = \"01.12 0132.123 2.31875 145.8 3.01 27.25 0.25\"\n",
    "output = find_decimal_numbers(sample_text)\n",
    "print(output)"
   ]
  },
  {
   "cell_type": "code",
   "execution_count": 25,
   "id": "fd1c9282",
   "metadata": {},
   "outputs": [
    {
     "name": "stdout",
     "output_type": "stream",
     "text": [
      "Number found at position 22: 1\n",
      "Number found at position 23: 2\n",
      "Number found at position 24: 3\n",
      "Number found at position 38: 4\n",
      "Number found at position 39: 5\n",
      "Number found at position 40: 6\n"
     ]
    }
   ],
   "source": [
    "def separate_numbers(text):\n",
    "    for i, char in enumerate(text):\n",
    "        if char.isdigit():\n",
    "            print(f\"Number found at position {i}: {char}\")\n",
    "text = \"This is a string with 123 numbers and 456 more.\"\n",
    "separate_numbers(text)"
   ]
  },
  {
   "cell_type": "code",
   "execution_count": 26,
   "id": "8fbf4af0",
   "metadata": {},
   "outputs": [
    {
     "name": "stdout",
     "output_type": "stream",
     "text": [
      "Maximum numeric value: 950\n"
     ]
    }
   ],
   "source": [
    "import re\n",
    "text = \"My marks in each semester are: 947, 896, 926, 524, 734, 950, 642\"\n",
    "pattern = r\"\\d+\"\n",
    "matches = re.findall(pattern, text)\n",
    "if matches:\n",
    "    max_value = int(max(matches))\n",
    "    print(\"Maximum numeric value:\", max_value)\n",
    "else:\n",
    "    print(\"No numbers found in the text.\")"
   ]
  },
  {
   "cell_type": "code",
   "execution_count": 27,
   "id": "5d67f985",
   "metadata": {},
   "outputs": [
    {
     "name": "stdout",
     "output_type": "stream",
     "text": [
      "Regular Expression Is An Important Topic In Python\n"
     ]
    }
   ],
   "source": [
    "import re\n",
    "def insert_spaces(text):\n",
    "    pattern = r'([A-Z][a-z]+)'\n",
    "    result = re.sub(pattern, r' \\1', text)\n",
    "    result = result.strip()\n",
    "    return result\n",
    "sample_text = \"RegularExpressionIsAnImportantTopicInPython\"\n",
    "output = insert_spaces(sample_text)\n",
    "print(output)"
   ]
  },
  {
   "cell_type": "code",
   "execution_count": 28,
   "id": "05812514",
   "metadata": {},
   "outputs": [
    {
     "name": "stdout",
     "output_type": "stream",
     "text": [
      "Hello hello world\n"
     ]
    }
   ],
   "source": [
    "import re\n",
    "\n",
    "def remove_duplicate_words(text):\n",
    "    pattern = r\"\\b(\\w+)(?:\\s+\\1\\b)+\"\n",
    "    return re.sub(pattern, r\"\\1\", text)\n",
    "text = \"Hello hello world world\"\n",
    "modified_text = remove_duplicate_words(text)\n",
    "print(modified_text)"
   ]
  },
  {
   "cell_type": "code",
   "execution_count": 29,
   "id": "e95a12e9",
   "metadata": {},
   "outputs": [
    {
     "name": "stdout",
     "output_type": "stream",
     "text": [
      "Hello1 ends with an alphanumeric character.\n",
      "Hello123 ends with an alphanumeric character.\n",
      "Hello world! does not end with an alphanumeric character.\n",
      " does not end with an alphanumeric character.\n"
     ]
    }
   ],
   "source": [
    "import re\n",
    "def ends_with_alphanumeric(text):\n",
    "    pattern = r\"\\w+$\" \n",
    "    match = re.match(pattern, text)\n",
    "    return bool(match)\n",
    "strings = [\"Hello1\", \"Hello123\", \"Hello world!\", \"\"]\n",
    "for string in strings:\n",
    "    if ends_with_alphanumeric(string):\n",
    "        print(f\"{string} ends with an alphanumeric character.\")\n",
    "    else:\n",
    "        print(f\"{string} does not end with an alphanumeric character.\")"
   ]
  },
  {
   "cell_type": "code",
   "execution_count": 30,
   "id": "ea5f0a04",
   "metadata": {},
   "outputs": [
    {
     "name": "stdout",
     "output_type": "stream",
     "text": [
      "['#Doltiwal', '#xyzabc', '#Demonetization']\n"
     ]
    }
   ],
   "source": [
    "import re\n",
    "def extract_hashtags(text):\n",
    "    hashtags = re.findall(r'#\\w+', text)\n",
    "    return hashtags\n",
    "text = 'RT @kapil_kausik: #Doltiwal I mean #xyzabc is \"hurt\" by #Demonetization as the same has rendered USELESS <ed><U+00A0><U+00BD><ed><U+00B1><U+0089> \"acquired funds\" No wo'\n",
    "hashtags = extract_hashtags(text)\n",
    "print(hashtags)"
   ]
  },
  {
   "cell_type": "code",
   "execution_count": 31,
   "id": "c41268da",
   "metadata": {},
   "outputs": [
    {
     "name": "stdout",
     "output_type": "stream",
     "text": [
      "@Jags123456 Bharat band on 28??<ed><ed>Those who are protesting #demonetization are all different party leaders\n"
     ]
    }
   ],
   "source": [
    "import re\n",
    "\n",
    "input_text = \"@Jags123456 Bharat band on 28??<ed><U+00A0><U+00BD><ed><U+00B8><U+0082>Those who are protesting #demonetization are all different party leaders\"\n",
    "\n",
    "pattern = r\"<U\\+\\w{4}>\"\n",
    "output_text = re.sub(pattern, \"\", input_text)\n",
    "\n",
    "print(output_text)"
   ]
  },
  {
   "cell_type": "code",
   "execution_count": 32,
   "id": "257fcce8",
   "metadata": {},
   "outputs": [
    {
     "name": "stdout",
     "output_type": "stream",
     "text": [
      "Extracted dates: ['12-09-1992', '15-12-1999']\n"
     ]
    }
   ],
   "source": [
    "import re\n",
    "def extract_dates(filename):\n",
    "    pattern = r\"(?:\\d{1,2}\\D\\d{1,2}\\D\\d{4}|\\d{4}-\\d{2}-\\d{2})\"\n",
    "    with open(filename, \"r\") as file:\n",
    "        text = file.read()\n",
    "        matches = re.findall(pattern, text)\n",
    "    return matches\n",
    "text = \"Ron was born on 12-09-1992 and he was admitted to school 15-12-1999.\"\n",
    "filename = \"sample_text.txt\"\n",
    "with open(filename, \"w\") as file:\n",
    "    file.write(text)\n",
    "extracted_dates = extract_dates(filename)\n",
    "if extracted_dates:\n",
    "    print(\"Extracted dates:\", extracted_dates)\n",
    "else:\n",
    "    print(\"No dates found in the file.\")"
   ]
  },
  {
   "cell_type": "code",
   "execution_count": 33,
   "id": "1e9ebb5c",
   "metadata": {},
   "outputs": [
    {
     "name": "stdout",
     "output_type": "stream",
     "text": [
      " following example creates  ArrayList  a capacity   elements. 4 elements   added   ArrayList   ArrayList  trimmed accordingly.\n"
     ]
    }
   ],
   "source": [
    "import re\n",
    "def remove_words_by_length(text, min_length=2, max_length=4):\n",
    "    pattern = re.compile(rf\"\\b\\w{{{min_length},{max_length}}}\\b\", re.UNICODE)\n",
    "    return pattern.sub(\"\", text)\n",
    "text = \"The following example creates an ArrayList with a capacity of 50 elements. 4 elements are then added to the ArrayList and the ArrayList is trimmed accordingly.\"\n",
    "modified_text = remove_words_by_length(text)\n",
    "print(modified_text)"
   ]
  },
  {
   "cell_type": "code",
   "execution_count": null,
   "id": "4d107252",
   "metadata": {},
   "outputs": [],
   "source": [
    "pattern = r\"[A-Z][a-z]+\", sequences of one upper case letter followed by lower case letters."
   ]
  }
 ],
 "metadata": {
  "kernelspec": {
   "display_name": "Python 3 (ipykernel)",
   "language": "python",
   "name": "python3"
  },
  "language_info": {
   "codemirror_mode": {
    "name": "ipython",
    "version": 3
   },
   "file_extension": ".py",
   "mimetype": "text/x-python",
   "name": "python",
   "nbconvert_exporter": "python",
   "pygments_lexer": "ipython3",
   "version": "3.11.5"
  }
 },
 "nbformat": 4,
 "nbformat_minor": 5
}
